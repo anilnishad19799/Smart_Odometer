{
 "metadata": {
  "language_info": {
   "codemirror_mode": {
    "name": "ipython",
    "version": 3
   },
   "file_extension": ".py",
   "mimetype": "text/x-python",
   "name": "python",
   "nbconvert_exporter": "python",
   "pygments_lexer": "ipython3",
   "version": "3.8.7-final"
  },
  "orig_nbformat": 2,
  "kernelspec": {
   "name": "python3",
   "display_name": "Python 3.8.7 64-bit",
   "metadata": {
    "interpreter": {
     "hash": "e89b9a37715672ed8efe36514056f4469832b9c1fe19703b88570770f170c3a1"
    }
   }
  }
 },
 "nbformat": 4,
 "nbformat_minor": 2,
 "cells": [
  {
   "cell_type": "code",
   "execution_count": 6,
   "metadata": {},
   "outputs": [],
   "source": [
    "import cv2\n",
    "import numpy as np"
   ]
  },
  {
   "cell_type": "code",
   "execution_count": 12,
   "metadata": {},
   "outputs": [],
   "source": [
    "img = cv2.imread('3.jpeg',0)"
   ]
  },
  {
   "cell_type": "code",
   "execution_count": 13,
   "metadata": {},
   "outputs": [
    {
     "output_type": "stream",
     "name": "stdout",
     "text": [
      "[[47 46 45 ... 47 45 45]\n [45 46 47 ... 46 46 47]\n [46 47 49 ... 45 47 47]\n ...\n [43 46 42 ... 40 40 39]\n [43 43 45 ... 40 40 40]\n [41 42 44 ... 40 40 40]]\n"
     ]
    }
   ],
   "source": [
    "print(img)"
   ]
  },
  {
   "cell_type": "code",
   "execution_count": 14,
   "metadata": {},
   "outputs": [],
   "source": [
    "# def cv_imread(file_path):\n",
    "#     cv_img = cv2.imdecode(np.fromfile(file_path, dtype=np.uint8), -1)\n",
    "#     return cv_img\n",
    "# file_path = '3.jpeg'\n",
    "# img = cv_imread(file_path)\n",
    "# print(img)"
   ]
  },
  {
   "cell_type": "code",
   "execution_count": 15,
   "metadata": {},
   "outputs": [],
   "source": [
    "dilated_img = cv2.dilate(img, np.ones((7,7), np.uint8))"
   ]
  },
  {
   "cell_type": "code",
   "execution_count": 16,
   "metadata": {},
   "outputs": [],
   "source": [
    "bg_img = cv2.medianBlur(dilated_img, 21)"
   ]
  },
  {
   "cell_type": "code",
   "execution_count": 17,
   "metadata": {},
   "outputs": [],
   "source": [
    "diff_img = 255 - cv2.absdiff(img, bg_img)"
   ]
  },
  {
   "cell_type": "code",
   "execution_count": 18,
   "metadata": {},
   "outputs": [],
   "source": [
    "norm_img = diff_img.copy()"
   ]
  },
  {
   "cell_type": "code",
   "execution_count": 19,
   "metadata": {},
   "outputs": [
    {
     "output_type": "execute_result",
     "data": {
      "text/plain": [
       "array([[252, 251, 250, ..., 252, 250, 250],\n",
       "       [250, 251, 252, ..., 251, 251, 252],\n",
       "       [251, 252, 255, ..., 250, 252, 252],\n",
       "       ...,\n",
       "       [251, 254, 249, ..., 252, 252, 251],\n",
       "       [251, 251, 254, ..., 252, 252, 254],\n",
       "       [249, 250, 252, ..., 252, 254, 254]], dtype=uint8)"
      ]
     },
     "metadata": {},
     "execution_count": 19
    }
   ],
   "source": [
    "cv2.normalize(diff_img, norm_img, alpha=0, beta=255, norm_type=cv2.NORM_MINMAX, dtype=cv2.CV_8UC1)"
   ]
  },
  {
   "cell_type": "code",
   "execution_count": 20,
   "metadata": {},
   "outputs": [],
   "source": [
    "_, thr_img = cv2.threshold(norm_img, 230, 0, cv2.THRESH_TRUNC)"
   ]
  },
  {
   "cell_type": "code",
   "execution_count": 21,
   "metadata": {},
   "outputs": [
    {
     "output_type": "execute_result",
     "data": {
      "text/plain": [
       "array([[255, 255, 255, ..., 255, 255, 255],\n",
       "       [255, 255, 255, ..., 255, 255, 255],\n",
       "       [255, 255, 255, ..., 255, 255, 255],\n",
       "       ...,\n",
       "       [255, 255, 255, ..., 255, 255, 255],\n",
       "       [255, 255, 255, ..., 255, 255, 255],\n",
       "       [255, 255, 255, ..., 255, 255, 255]], dtype=uint8)"
      ]
     },
     "metadata": {},
     "execution_count": 21
    }
   ],
   "source": [
    "cv2.normalize(thr_img, thr_img, alpha=0, beta=255, norm_type=cv2.NORM_MINMAX, dtype=cv2.CV_8UC1)"
   ]
  }
 ]
}